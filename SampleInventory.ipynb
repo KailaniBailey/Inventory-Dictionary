{
  "metadata": {
    "kernelspec": {
      "name": "python",
      "display_name": "Python (Pyodide)",
      "language": "python"
    },
    "language_info": {
      "codemirror_mode": {
        "name": "python",
        "version": 3
      },
      "file_extension": ".py",
      "mimetype": "text/x-python",
      "name": "python",
      "nbconvert_exporter": "python",
      "pygments_lexer": "ipython3",
      "version": "3.8"
    }
  },
  "nbformat_minor": 4,
  "nbformat": 4,
  "cells": [
    {
      "cell_type": "markdown",
      "source": "# This is a sample project for maintaining a retail store's inventory",
      "metadata": {}
    },
    {
      "cell_type": "markdown",
      "source": "## Utilizing a dictionary-based approach to develop a simple system for managing and tracking retail within a retail store environment\n\n## Created using a JupyterLite version of Jupyter Notebook\n\n### By Kailani-Brionna Bailey \n\nMarch 7, 2024",
      "metadata": {}
    },
    {
      "cell_type": "code",
      "source": "inventory={}",
      "metadata": {
        "trusted": true
      },
      "outputs": [],
      "execution_count": 16
    },
    {
      "cell_type": "code",
      "source": "ProductNo1= \"Sample Item 1\"\nProductNo1_quantity= 999\nProductNo1_price= 9000\nProductNo1_releaseyear= 2023",
      "metadata": {
        "trusted": true
      },
      "outputs": [],
      "execution_count": 17
    },
    {
      "cell_type": "code",
      "source": "inventory[\"ProductNo1\"]= ProductNo1\ninventory[\"ProductNo1_quantity\"]= ProductNo1_quantity\ninventory[\"ProductNo1_price\"]= ProductNo1_price\ninventory[\"ProductNo1_releaseyear\"]= ProductNo1_releaseyear",
      "metadata": {
        "trusted": true
      },
      "outputs": [],
      "execution_count": 18
    },
    {
      "cell_type": "code",
      "source": "ProductNo2= \"Sample Item 2\"\nProductNo2_quantity= 999\nProductNo2_price= 100000\nProductNo2_releaseyear= 2024",
      "metadata": {
        "trusted": true
      },
      "outputs": [],
      "execution_count": 19
    },
    {
      "cell_type": "code",
      "source": "inventory[\"ProductNo2\"]= ProductNo2\ninventory[\"ProductNo2_quantity\"]= ProductNo2_quantity\ninventory[\"ProductNo2_price\"]= ProductNo2_price\ninventory[\"ProductNo2_releaseyear\"]= ProductNo2_releaseyear",
      "metadata": {
        "trusted": true
      },
      "outputs": [],
      "execution_count": 20
    },
    {
      "cell_type": "code",
      "source": "print(inventory)",
      "metadata": {
        "trusted": true
      },
      "outputs": [
        {
          "name": "stdout",
          "text": "{'ProductNo1': 'Sample Item 1', 'ProductNo1_quantity': 999, 'ProductNo1_price': 9000, 'ProductNo1_releaseyear': 2023, 'ProductNo2': 'Sample Item 2', 'ProductNo2_quantity': 999, 'ProductNo2_price': 100000, 'ProductNo2_releaseyear': 2024}\n",
          "output_type": "stream"
        }
      ],
      "execution_count": 21
    },
    {
      "cell_type": "code",
      "source": "# Checking to see if 'Product Release Years' are in the inventory:\n\n\"ProductNo1_releaseyear\" in inventory\n\"ProductNo2_releaseyear\" in inventory",
      "metadata": {
        "trusted": true
      },
      "outputs": [
        {
          "execution_count": 22,
          "output_type": "execute_result",
          "data": {
            "text/plain": "True"
          },
          "metadata": {}
        }
      ],
      "execution_count": 22
    },
    {
      "cell_type": "code",
      "source": "# Deleting & Removing both of the 'Product Release Years' from the inventory (just because...)\n# This can be applied to any of the unwanted product information for retail purposes and inventory \n\ndel(inventory[\"ProductNo1_releaseyear\"])\ndel(inventory[\"ProductNo2_releaseyear\"])",
      "metadata": {
        "trusted": true
      },
      "outputs": [],
      "execution_count": 23
    },
    {
      "cell_type": "code",
      "source": "",
      "metadata": {
        "trusted": true
      },
      "outputs": [],
      "execution_count": null
    }
  ]
}